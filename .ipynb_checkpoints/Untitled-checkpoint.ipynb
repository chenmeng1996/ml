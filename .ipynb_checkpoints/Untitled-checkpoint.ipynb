{
 "cells": [
  {
   "cell_type": "code",
   "execution_count": 9,
   "id": "6ad3396b-7e8d-4eab-b9a6-f3bfa3407c20",
   "metadata": {},
   "outputs": [],
   "source": [
    "from sklearn.datasets import fetch_20newsgroups\n",
    "groups = fetch_20newsgroups()"
   ]
  },
  {
   "cell_type": "code",
   "execution_count": 7,
   "id": "a4dc54b3-6519-4109-b93f-d77848052b00",
   "metadata": {},
   "outputs": [
    {
     "data": {
      "text/plain": [
       "dict_keys(['data', 'filenames', 'target_names', 'target', 'DESCR'])"
      ]
     },
     "execution_count": 7,
     "metadata": {},
     "output_type": "execute_result"
    }
   ],
   "source": [
    "groups.keys()"
   ]
  },
  {
   "cell_type": "code",
   "execution_count": 11,
   "id": "7795fcc6-e048-4652-908e-08195b06115d",
   "metadata": {},
   "outputs": [
    {
     "data": {
      "text/plain": [
       "['alt.atheism',\n",
       " 'comp.graphics',\n",
       " 'comp.os.ms-windows.misc',\n",
       " 'comp.sys.ibm.pc.hardware',\n",
       " 'comp.sys.mac.hardware',\n",
       " 'comp.windows.x',\n",
       " 'misc.forsale',\n",
       " 'rec.autos',\n",
       " 'rec.motorcycles',\n",
       " 'rec.sport.baseball',\n",
       " 'rec.sport.hockey',\n",
       " 'sci.crypt',\n",
       " 'sci.electronics',\n",
       " 'sci.med',\n",
       " 'sci.space',\n",
       " 'soc.religion.christian',\n",
       " 'talk.politics.guns',\n",
       " 'talk.politics.mideast',\n",
       " 'talk.politics.misc',\n",
       " 'talk.religion.misc']"
      ]
     },
     "execution_count": 11,
     "metadata": {},
     "output_type": "execute_result"
    }
   ],
   "source": [
    "groups['target_names']"
   ]
  },
  {
   "cell_type": "code",
   "execution_count": 12,
   "id": "8483ba37-b25d-49e0-956a-fa578101ea1f",
   "metadata": {},
   "outputs": [
    {
     "data": {
      "text/plain": [
       "array([7, 4, 4, ..., 3, 1, 8])"
      ]
     },
     "execution_count": 12,
     "metadata": {},
     "output_type": "execute_result"
    }
   ],
   "source": [
    "groups.target"
   ]
  },
  {
   "cell_type": "code",
   "execution_count": 13,
   "id": "11441192-cde8-4ab6-839c-3c08eff5add7",
   "metadata": {},
   "outputs": [
    {
     "data": {
      "text/plain": [
       "array([ 0,  1,  2,  3,  4,  5,  6,  7,  8,  9, 10, 11, 12, 13, 14, 15, 16,\n",
       "       17, 18, 19])"
      ]
     },
     "execution_count": 13,
     "metadata": {},
     "output_type": "execute_result"
    }
   ],
   "source": [
    "import numpy as np\n",
    "np.unique(groups.target)"
   ]
  },
  {
   "cell_type": "code",
   "execution_count": 14,
   "id": "00e69aae-f76c-44e3-bff6-67a3c988204e",
   "metadata": {},
   "outputs": [
    {
     "data": {
      "text/plain": [
       "\"From: lerxst@wam.umd.edu (where's my thing)\\nSubject: WHAT car is this!?\\nNntp-Posting-Host: rac3.wam.umd.edu\\nOrganization: University of Maryland, College Park\\nLines: 15\\n\\n I was wondering if anyone out there could enlighten me on this car I saw\\nthe other day. It was a 2-door sports car, looked to be from the late 60s/\\nearly 70s. It was called a Bricklin. The doors were really small. In addition,\\nthe front bumper was separate from the rest of the body. This is \\nall I know. If anyone can tellme a model name, engine specs, years\\nof production, where this car is made, history, or whatever info you\\nhave on this funky looking car, please e-mail.\\n\\nThanks,\\n- IL\\n   ---- brought to you by your neighborhood Lerxst ----\\n\\n\\n\\n\\n\""
      ]
     },
     "execution_count": 14,
     "metadata": {},
     "output_type": "execute_result"
    }
   ],
   "source": [
    "groups.data[0]"
   ]
  },
  {
   "cell_type": "code",
   "execution_count": 15,
   "id": "8c81eb91-9abc-41c2-9b0a-a4272fe14bc2",
   "metadata": {},
   "outputs": [
    {
     "name": "stderr",
     "output_type": "stream",
     "text": [
      "C:\\Users\\mengchen\\AppData\\Local\\Temp\\ipykernel_3744\\73771861.py:2: UserWarning: \n",
      "\n",
      "`distplot` is a deprecated function and will be removed in seaborn v0.14.0.\n",
      "\n",
      "Please adapt your code to use either `displot` (a figure-level function with\n",
      "similar flexibility) or `histplot` (an axes-level function for histograms).\n",
      "\n",
      "For a guide to updating your code to use the new functions, please see\n",
      "https://gist.github.com/mwaskom/de44147ed2974457ad6372750bbe5751\n",
      "\n",
      "  sns.distplot(groups.target)\n",
      "C:\\Users\\mengchen\\AppData\\Local\\anaconda3\\Lib\\site-packages\\seaborn\\_oldcore.py:1119: FutureWarning: use_inf_as_na option is deprecated and will be removed in a future version. Convert inf values to NaN before operating instead.\n",
      "  with pd.option_context('mode.use_inf_as_na', True):\n"
     ]
    },
    {
     "data": {
      "image/png": "[encoded data removed]",
      "text/plain": [
       "<Figure size 640x480 with 1 Axes>"
      ]
     },
     "metadata": {},
     "output_type": "display_data"
    }
   ],
   "source": [
    "import seaborn as sns\n",
    "sns.distplot(groups.target)\n",
    "import matplotlib.pyplot as plt\n",
    "plt.show()"
   ]
  },
  {
   "cell_type": "code",
   "execution_count": 20,
   "id": "eb3ed829-938d-4436-8e5a-21a6d11bbaec",
   "metadata": {},
   "outputs": [
    {
     "name": "stdout",
     "output_type": "stream",
     "text": [
      "['able' 'accept' 'access' 'according' 'act' 'action' 'actually' 'add'\n",
      " 'address' 'ago' 'agree' 'algorithm' 'allow' 'american' 'anonymous'\n",
      " 'answer' 'anybody' 'apple' 'application' 'apr' 'arab' 'area' 'argument'\n",
      " 'armenian' 'article' 'ask' 'asked' 'assume' 'atheist' 'attack' 'attempt'\n",
      " 'available' 'away' 'bad' 'based' 'basic' 'belief' 'believe' 'best'\n",
      " 'better' 'bible' 'big' 'bike' 'bit' 'black' 'board' 'body' 'book' 'box'\n",
      " 'build' 'bus' 'business' 'buy' 'ca' 'california' 'called' 'came' 'car'\n",
      " 'card' 'care' 'carry' 'case' 'cause' 'center' 'certain' 'certainly'\n",
      " 'chance' 'change' 'check' 'child' 'chip' 'christian' 'church' 'city'\n",
      " 'claim' 'clear' 'clipper' 'code' 'college' 'color' 'come' 'coming'\n",
      " 'command' 'comment' 'common' 'communication' 'company' 'computer'\n",
      " 'computing' 'consider' 'considered' 'contact' 'control' 'controller'\n",
      " 'copy' 'correct' 'cost' 'country' 'couple' 'course' 'cover' 'create'\n",
      " 'crime' 'current' 'cut' 'data' 'day' 'db' 'deal' 'death' 'department'\n",
      " 'design' 'device' 'did' 'difference' 'different' 'discussion' 'disk'\n",
      " 'display' 'division' 'dod' 'doe' 'doing' 'drive' 'driver' 'drug' 'early'\n",
      " 'earth' 'easy' 'effect' 'email' 'encryption' 'end' 'engineering' 'entry'\n",
      " 'error' 'especially' 'event' 'evidence' 'exactly' 'example' 'expect'\n",
      " 'experience' 'explain' 'face' 'fact' 'faq' 'far' 'fast' 'federal' 'feel'\n",
      " 'figure' 'file' 'final' 'following' 'food' 'force' 'form' 'free' 'friend'\n",
      " 'ftp' 'function' 'game' 'general' 'getting' 'given' 'gmt' 'goal' 'god'\n",
      " 'going' 'good' 'got' 'government' 'graphic' 'great' 'greek' 'ground'\n",
      " 'group' 'guess' 'gun' 'guy' 'ha' 'hand' 'hard' 'hardware' 'having' 'head'\n",
      " 'health' 'hear' 'heard' 'hell' 'help' 'high' 'history' 'hit' 'hockey'\n",
      " 'hold' 'home' 'hope' 'house' 'human' 'ibm' 'idea' 'image' 'important'\n",
      " 'include' 'includes' 'including' 'individual' 'info' 'information'\n",
      " 'instead' 'institute' 'interested' 'interesting' 'international'\n",
      " 'internet' 'israeli' 'issue' 'jew' 'jewish' 'job' 'just' 'key' 'kill'\n",
      " 'killed' 'kind' 'know' 'known' 'la' 'large' 'later' 'law' 'le' 'lead'\n",
      " 'league' 'left' 'let' 'level' 'life' 'light' 'like' 'likely' 'line'\n",
      " 'list' 'little' 'live' 'local' 'long' 'longer' 'look' 'looking' 'lost'\n",
      " 'lot' 'love' 'low' 'machine' 'mail' 'main' 'major' 'make' 'making' 'man'\n",
      " 'manager' 'matter' 'maybe' 'mean' 'medical' 'member' 'memory' 'men'\n",
      " 'message' 'method' 'military' 'million' 'mind' 'mode' 'model' 'money'\n",
      " 'monitor' 'month' 'moral' 'mouse' 'muslim' 'na' 'nasa' 'national' 'near'\n",
      " 'need' 'needed' 'network' 'new' 'news' 'nice' 'north' 'note' 'number'\n",
      " 'offer' 'office' 'old' 'open' 'opinion' 'order' 'original' 'output'\n",
      " 'package' 'particular' 'past' 'pay' 'pc' 'people' 'period' 'person'\n",
      " 'personal' 'phone' 'place' 'play' 'player' 'point' 'police' 'policy'\n",
      " 'political' 'position' 'possible' 'post' 'posted' 'posting' 'power'\n",
      " 'president' 'press' 'pretty' 'previous' 'price' 'private' 'probably'\n",
      " 'problem' 'product' 'program' 'project' 'provide' 'public' 'purpose'\n",
      " 'question' 'quite' 'radio' 'rate' 'read' 'reading' 'real' 'really'\n",
      " 'reason' 'recently' 'reference' 'religion' 'religious' 'remember' 'reply'\n",
      " 'report' 'research' 'response' 'rest' 'result' 'return' 'right' 'road'\n",
      " 'rule' 'run' 'running' 'russian' 'said' 'sale' 'san' 'save' 'saw' 'say'\n",
      " 'saying' 'school' 'science' 'screen' 'scsi' 'second' 'section' 'security'\n",
      " 'seen' 'sell' 'send' 'sense' 'sent' 'serial' 'server' 'service' 'set'\n",
      " 'shall' 'short' 'shot' 'similar' 'simple' 'simply' 'single' 'site'\n",
      " 'situation' 'size' 'small' 'software' 'sort' 'sound' 'source' 'space'\n",
      " 'special' 'specific' 'speed' 'standard' 'start' 'started' 'state'\n",
      " 'statement' 'stop' 'strong' 'study' 'stuff' 'subject' 'sun' 'support'\n",
      " 'sure' 'taken' 'taking' 'talk' 'talking' 'tape' 'tax' 'team' 'technical'\n",
      " 'technology' 'tell' 'term' 'test' 'texas' 'text' 'thanks' 'thing' 'think'\n",
      " 'thinking' 'thought' 'time' 'tin' 'today' 'told' 'took' 'total' 'tried'\n",
      " 'true' 'truth' 'try' 'trying' 'turkish' 'turn' 'type' 'understand' 'unit'\n",
      " 'united' 'university' 'unix' 'unless' 'usa' 'use' 'used' 'user' 'using'\n",
      " 'usually' 'value' 'various' 'version' 'video' 'view' 'wa' 'want' 'wanted'\n",
      " 'war' 'water' 'way' 'weapon' 'week' 'went' 'western' 'white' 'widget'\n",
      " 'willing' 'win' 'window' 'woman' 'word' 'work' 'working' 'world' 'write'\n",
      " 'written' 'wrong' 'year' 'york' 'young']\n"
     ]
    },
    {
     "name": "stderr",
     "output_type": "stream",
     "text": [
      "C:\\Users\\mengchen\\AppData\\Local\\anaconda3\\Lib\\site-packages\\seaborn\\_oldcore.py:1119: FutureWarning: use_inf_as_na option is deprecated and will be removed in a future version. Convert inf values to NaN before operating instead.\n",
      "  with pd.option_context('mode.use_inf_as_na', True):\n"
     ]
    },
    {
     "data": {
      "image/png": "[encoded data removed]",
      "text/plain": [
       "<Figure size 640x480 with 1 Axes>"
      ]
     },
     "metadata": {},
     "output_type": "display_data"
    }
   ],
   "source": [
    "from sklearn.feature_extraction.text import CountVectorizer\n",
    "import numpy as np\n",
    "import matplotlib.pyplot as plt\n",
    "import seaborn as sns\n",
    "from sklearn.datasets import fetch_20newsgroups\n",
    "from nltk.corpus import names\n",
    "from nltk.stem import WordNetLemmatizer\n",
    "\n",
    "def letters_only(astr):\n",
    "    return astr.isalpha()\n",
    "\n",
    "# CountVectorizer用于将文本数据转化为词频矩阵。\n",
    "# 参数stop_words=\"english\"表示移除英文停用词（如\"a\", \"the\", \"is\"等常见但无意义的单词）。\n",
    "# max_features=500表示仅保留出现频率最高的500个单词。\n",
    "cv = CountVectorizer(stop_words=\"english\", max_features=500)\n",
    "# 从20个新闻组话题的语料库中获取数据。默认情况下，这个函数会返回一个包含多个新闻组的对象\n",
    "groups = fetch_20newsgroups()\n",
    "\n",
    "# 数据预处理\n",
    "# 仅保留全为字母的单词，并且不是人名\n",
    "# 使用词性还原，去除一些重复的单词，例如words相对于word是重复的\n",
    "cleaned = []\n",
    "all_names = set(names.words())\n",
    "lemmatizer = WordNetLemmatizer()\n",
    "for post in groups.data:\n",
    "    cleaned.append(' '.join([lemmatizer.lemmatize(word.lower()) for word in post.split() if letters_only(word) and word not in all_names]))\n",
    "\n",
    "# 将文本数据转换为词频矩阵。\n",
    "# transformed是一个稀疏矩阵，其中每一行表示一个文档，每一列表示一个单词，值是该单词在该文档中出现的次数。\n",
    "transformed = cv.fit_transform(cleaned)\n",
    "# 返回词汇表中所有的单词（特征）\n",
    "print(cv.get_feature_names_out())\n",
    "\n",
    "# transformed.toarray()将稀疏矩阵转换为密集数组。\n",
    "# sum(axis=0)计算每个单词在所有文档中的总出现次数。\n",
    "# np.log(...)取这些总出现次数的对数，以便更好地展示分布（对数变换可以减少极端值的影响，使图形更容易解释）。\n",
    "# 使用Seaborn的distplot绘制对数单词频率的分布图。\n",
    "sns.histplot(np.log(transformed.toarray().sum(axis=0)))\n",
    "plt.xlabel('Log Count')\n",
    "plt.ylabel('Frequency')\n",
    "plt.title('Distribution Plot of 500 Word Counts')\n",
    "plt.show()"
   ]
  },
  {
   "cell_type": "code",
   "execution_count": 21,
   "id": "468988b1-f16c-4313-8b3f-2a05e19ccd79",
   "metadata": {},
   "outputs": [
    {
     "name": "stderr",
     "output_type": "stream",
     "text": [
      "C:\\Users\\mengchen\\AppData\\Local\\anaconda3\\Lib\\site-packages\\sklearn\\cluster\\_kmeans.py:870: FutureWarning: The default value of `n_init` will change from 10 to 'auto' in 1.4. Set the value of `n_init` explicitly to suppress the warning\n",
      "  warnings.warn(\n"
     ]
    },
    {
     "data": {
      "image/png": "[encoded data removed]",
      "text/plain": [
       "<Figure size 640x480 with 1 Axes>"
      ]
     },
     "metadata": {},
     "output_type": "display_data"
    }
   ],
   "source": [
    "\"\"\"\n",
    "这段代码首先清理文本数据，去除停用词、人名，并进行词形还原。\n",
    "然后将清理后的文本数据转换为词频矩阵。\n",
    "并使用K-means算法对其进行聚类。\n",
    "最后，通过散点图展示新闻组与聚类结果的关系，直观地展示了不同新闻组在聚类中的分布情况。\n",
    "\"\"\"\n",
    "from sklearn.feature_extraction.text import CountVectorizer\n",
    "from sklearn.datasets import fetch_20newsgroups\n",
    "from nltk.corpus import names\n",
    "from nltk.stem import WordNetLemmatizer\n",
    "from sklearn.cluster import KMeans\n",
    "import matplotlib.pyplot as plt\n",
    "\n",
    "def letters_only(astr):\n",
    " return astr.isalpha()\n",
    "\n",
    "cv = CountVectorizer(stop_words=\"english\", max_features=500)\n",
    "groups = fetch_20newsgroups()\n",
    "cleaned = []\n",
    "all_names = set(names.words())\n",
    "lemmatizer = WordNetLemmatizer()\n",
    "\n",
    "for post in groups.data:\n",
    "        cleaned.append(' '.join([\n",
    "                             lemmatizer.lemmatize(word.lower())\n",
    "                             for word in post.split()\n",
    "                             if letters_only(word)\n",
    "                             and word not in all_names]))\n",
    "\n",
    "transformed = cv.fit_transform(cleaned)\n",
    "# K-means 聚类算法\n",
    "km = KMeans(n_clusters=20)\n",
    "km.fit(transformed)\n",
    "# 获取新闻组的真实标签labels。\n",
    "# 绘制散点图，X轴为真实标签（新闻组），Y轴为K-means聚类标签。\n",
    "labels = groups.target\n",
    "plt.scatter(labels, km.labels_)\n",
    "plt.xlabel('Newsgroup')\n",
    "plt.ylabel('Cluster')\n",
    "plt.show()"
   ]
  },
  {
   "cell_type": "code",
   "execution_count": 23,
   "id": "4ce11d91-e7a4-40aa-abd9-b9fd2fff54cc",
   "metadata": {},
   "outputs": [
    {
     "name": "stdout",
     "output_type": "stream",
     "text": [
      "0:  wa went came said started took told woman\n",
      "1:  db bit data place stuff add time line\n",
      "2:  image file color version free available display use\n",
      "3:  file information set command change section entry write\n",
      "4:  disk drive hard controller support card board head\n",
      "5:  entry program rule source use number info email\n",
      "6:  world muslim life earth religious news religion million\n",
      "7:  image user software package include color support display\n",
      "8:  using function work product order version code probably\n",
      "9:  state united national house public control political federal\n",
      "10:  hockey league team game division player play final\n",
      "11:  armenian turkish russian muslim road city today single\n",
      "12:  ha able called taken given past exactly looking\n",
      "13:  space nasa technology service national international small communication\n",
      "14:  god bible shall man life hell love end\n",
      "15:  output line open write read return build entry\n",
      "16:  people country tell doing live killed place care\n",
      "17:  widget application value type set return display event\n",
      "18:  child case le area report group research technology\n",
      "19:  turkish jew jewish war sent book came second\n",
      "20:  number serial large following million report le men\n",
      "21:  president said group tax working press package going\n",
      "22:  ground box usually need run power current code\n",
      "23:  russian president american support food money important private\n",
      "24:  ibm color week memory hardware software monitor standard\n",
      "25:  anonymous posting service user server group message post\n",
      "26:  la win san went list near year radio\n",
      "27:  work job young school lot need private create\n",
      "28:  encryption technology access device policy need security government\n",
      "29:  tape driver need work memory cause note hardware\n",
      "30:  war military wa attack way russian united force\n",
      "31:  atheist religious religion belief god sort feel idea\n",
      "32:  question answer ask asked reason science claim true\n",
      "33:  data available information model based research user disk\n",
      "34:  center research medical institute national study test north\n",
      "35:  water city division public similar north list today\n",
      "36:  rate city crime difference study le white gun\n",
      "37:  use note usually similar case standard le report\n",
      "38:  think lot trying try kind talk agree certainly\n",
      "39:  drive head single mode set model type check\n",
      "40:  graphic send mail message package computer various site\n",
      "41:  window manager application user offer open information work\n",
      "42:  know tell need way sure understand talking far\n",
      "43:  car speed driver change high buy different design\n",
      "44:  internet anonymous email address information user network mail\n",
      "45:  ftp available anonymous general nasa package list source\n",
      "46:  going way mean sure look got working doing\n",
      "47:  law federal act issue specific order moral clear\n",
      "48:  like look long little guy having real hear\n",
      "49:  good cover great pretty help bad probably issue\n",
      "50:  computer information service public internet communication issue network\n",
      "51:  want need help let reason life copy hope\n",
      "52:  problem having work help running apple long try\n",
      "53:  argument form true evidence event truth particular known\n",
      "54:  greek turkish killed act western muslim word talk\n",
      "55:  scsi hard pc device drive bus different controller\n",
      "56:  time long lot different having able order away\n",
      "57:  new york sale change service result early study\n",
      "58:  right second free shall security mean american individual\n",
      "59:  dod computer bike member started live mean rule\n",
      "60:  doe mean anybody actually ask different help word\n",
      "61:  book read reference copy study second original speed\n",
      "62:  program run change technology display application version called\n",
      "63:  available version widget includes sun set source offer\n",
      "64:  used way product type act note standard single\n",
      "65:  san information police said league group political including\n",
      "66:  server support display screen source memory running mouse\n",
      "67:  year ago old best hit long sale pretty\n",
      "68:  come tell trying turn coming away certainly great\n",
      "69:  human life moral person claim kill reason said\n",
      "70:  list post information offer group course faq manager\n",
      "71:  power period second special san le play goal\n",
      "72:  saw told went got came asked city tell\n",
      "73:  make sense little making end sure tell unless\n",
      "74:  say mean word said act read clear saying\n",
      "75:  just maybe thought big start probably getting tell\n",
      "76:  key message security public bit algorithm standard attack\n",
      "77:  thing sure seen trying got little having real\n",
      "78:  sound left play work apple game manager pretty\n",
      "79:  israeli arab jew attack policy true jewish fact\n",
      "80:  believe belief christian truth evidence claim mean reason\n",
      "81:  drug study information war group usa reason taken\n",
      "82:  wa thought later seen left given order early\n",
      "83:  did death let fact body money place took\n",
      "84:  chip unit clipper serial algorithm disk communication phone\n",
      "85:  government political free federal sure local private reason\n",
      "86:  church christian member group true bible command view\n",
      "87:  university science general department thanks engineering computer texas\n",
      "88:  better player best play probably hit lot maybe\n",
      "89:  point way line different algorithm set exactly idea\n",
      "90:  game got shot play goal hit lead took\n",
      "91:  section military shall weapon person division application mean\n",
      "92:  health medical public national care study service user\n",
      "93:  gun control house crime united american weapon second\n",
      "94:  team win run player play look home bad\n",
      "95:  day word christian jewish said jew little way\n",
      "96:  really lot sure look actually fact feel idea\n",
      "97:  card driver video support mouse mode board bus\n",
      "98:  article read usa post opinion discussion bike apr\n",
      "99:  woman men way man religion muslim try great\n"
     ]
    }
   ],
   "source": [
    "\"\"\"\n",
    "有一种话题建模算法叫作非负矩阵分解（Non-negative Matrix Factorization，NMF）。\n",
    "该算法将一个非负矩阵分解为两个较小矩阵的乘积，分解后的两个矩阵的所有元素也都是非负的。\n",
    "\n",
    "从20个新闻组数据集中获取文本数据。\n",
    "清理文本数据，去除停用词、人名，并进行词形还原。\n",
    "使用CountVectorizer将清理后的文本数据转换为词频矩阵。\n",
    "使用NMF模型从词频矩阵中提取主题。\n",
    "打印每个主题的前8个词，帮助理解每个主题的主要内容。\n",
    "\"\"\"\n",
    "\n",
    "from sklearn.feature_extraction.text import CountVectorizer\n",
    "from sklearn.datasets import fetch_20newsgroups\n",
    "from nltk.corpus import names\n",
    "from nltk.stem import WordNetLemmatizer\n",
    "from sklearn.decomposition import NMF\n",
    "\n",
    "def letters_only(astr):\n",
    "    return astr.isalpha()\n",
    "\n",
    "\n",
    "cv = CountVectorizer(stop_words=\"english\", max_features=500)\n",
    "groups = fetch_20newsgroups()\n",
    "cleaned = []\n",
    "all_names = set(names.words())\n",
    "lemmatizer = WordNetLemmatizer()\n",
    "for post in groups.data:\n",
    "    cleaned.append(' '.join([\n",
    "                        lemmatizer.lemmatize(word.lower())\n",
    "                        for word in post.split()\n",
    "                        if letters_only(word)\n",
    "                        and word not in all_names]))\n",
    "transformed = cv.fit_transform(cleaned)\n",
    "\n",
    "# 非负矩阵分解，用于提取主题\n",
    "# 初始化NMF模型，设置提取100个主题，指定随机种子为43。\n",
    "# 使用词频矩阵进行模型训练\n",
    "nmf = NMF(n_components=100, random_state=43).fit(transformed)\n",
    "# 遍历每个主题（topic_idx表示主题编号，topic是该主题的特征权重数组）。\n",
    "# 获取每个主题中权重最大的前8个词。\n",
    "# topic.argsort()[:-9:-1]返回排序后权重最高的前8个词的索引（从大到小）。\n",
    "# cv.get_feature_names()[i]根据索引获取对应的单词。\n",
    "# 打印每个主题的编号和对应的前8个词。\n",
    "for topic_idx, topic in enumerate(nmf.components_):\n",
    "    label = '{}: '.format(topic_idx)\n",
    "    print(label, \" \".join([cv.get_feature_names_out()[i]\n",
    "                        for i in topic.argsort()[:-9:-1]]))"
   ]
  }
 ],
 "metadata": {
  "kernelspec": {
   "display_name": "Python 3 (ipykernel)",
   "language": "python",
   "name": "python3"
  },
  "language_info": {
   "codemirror_mode": {
    "name": "ipython",
    "version": 3
   },
   "file_extension": ".py",
   "mimetype": "text/x-python",
   "name": "python",
   "nbconvert_exporter": "python",
   "pygments_lexer": "ipython3",
   "version": "3.11.7"
  }
 },
 "nbformat": 4,
 "nbformat_minor": 5
}
