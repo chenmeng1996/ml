{
 "cells": [
  {
   "cell_type": "code",
   "execution_count": null,
   "id": "6df140b7-e7b5-4f55-a512-2be5109ca42d",
   "metadata": {},
   "outputs": [
    {
     "name": "stdout",
     "output_type": "stream",
     "text": [
      "showing info https://raw.githubusercontent.com/nltk/nltk_data/gh-pages/index.xml\n"
     ]
    }
   ],
   "source": [
    "import nltk\n",
    "nltk.download()"
   ]
  },
  {
   "cell_type": "code",
   "execution_count": null,
   "id": "8c9bc72d-4cac-4981-b60b-aae92e06b220",
   "metadata": {},
   "outputs": [],
   "source": [
    "from nltk.corpus import names\n",
    "print(names.words()[:10])"
   ]
  },
  {
   "cell_type": "code",
   "execution_count": null,
   "id": "786c455d-f30d-4094-9f7c-f6a1f3748d06",
   "metadata": {},
   "outputs": [],
   "source": [
    "from nltk.stem.porter import PorterStemmer\n",
    "porter_stemmer = PorterStemmer()\n",
    "\n",
    "porter_stemmer.stem('machines')\n",
    "porter_stemmer.stem('learning')"
   ]
  },
  {
   "cell_type": "code",
   "execution_count": null,
   "id": "66509077-9595-43ac-9d14-e5a470a6d247",
   "metadata": {},
   "outputs": [],
   "source": [
    "porter_stemmer.stem('learning')"
   ]
  }
 ],
 "metadata": {
  "kernelspec": {
   "display_name": "Python 3 (ipykernel)",
   "language": "python",
   "name": "python3"
  },
  "language_info": {
   "codemirror_mode": {
    "name": "ipython",
    "version": 3
   },
   "file_extension": ".py",
   "mimetype": "text/x-python",
   "name": "python",
   "nbconvert_exporter": "python",
   "pygments_lexer": "ipython3",
   "version": "3.11.7"
  }
 },
 "nbformat": 4,
 "nbformat_minor": 5
}
