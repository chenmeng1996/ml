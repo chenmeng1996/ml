{
 "cells": [
  {
   "cell_type": "code",
   "execution_count": 1,
   "id": "6df140b7-e7b5-4f55-a512-2be5109ca42d",
   "metadata": {},
   "outputs": [
    {
     "name": "stdout",
     "output_type": "stream",
     "text": [
      "showing info https://raw.githubusercontent.com/nltk/nltk_data/gh-pages/index.xml\n"
     ]
    },
    {
     "data": {
      "text/plain": [
       "True"
      ]
     },
     "execution_count": 1,
     "metadata": {},
     "output_type": "execute_result"
    }
   ],
   "source": [
    "import nltk\n",
    "nltk.download()"
   ]
  },
  {
   "cell_type": "code",
   "execution_count": null,
   "id": "8c9bc72d-4cac-4981-b60b-aae92e06b220",
   "metadata": {},
   "outputs": [],
   "source": [
    "from nltk.corpus import names\n",
    "print(names.words()[:10])"
   ]
  },
  {
   "cell_type": "code",
   "execution_count": 24,
   "id": "786c455d-f30d-4094-9f7c-f6a1f3748d06",
   "metadata": {},
   "outputs": [],
   "source": [
    "# 词干抽取\n",
    "from nltk.stem.porter import PorterStemmer\n",
    "porter_stemmer = PorterStemmer()"
   ]
  },
  {
   "cell_type": "code",
   "execution_count": 18,
   "id": "7446ab9b-52e2-429c-b45a-b3a51f91538e",
   "metadata": {},
   "outputs": [
    {
     "data": {
      "text/plain": [
       "'machin'"
      ]
     },
     "execution_count": 18,
     "metadata": {},
     "output_type": "execute_result"
    }
   ],
   "source": [
    "porter_stemmer.stem('machines')"
   ]
  },
  {
   "cell_type": "code",
   "execution_count": 19,
   "id": "1f1f9b2c-104f-4191-b291-be2eda7e3673",
   "metadata": {},
   "outputs": [
    {
     "data": {
      "text/plain": [
       "'learn'"
      ]
     },
     "execution_count": 19,
     "metadata": {},
     "output_type": "execute_result"
    }
   ],
   "source": [
    "porter_stemmer.stem('learning')"
   ]
  },
  {
   "cell_type": "code",
   "execution_count": 20,
   "id": "bd106f0d-e8c2-4fab-a608-cf12fb30e8c0",
   "metadata": {},
   "outputs": [],
   "source": [
    "# 词形还原\n",
    "from nltk.stem import WordNetLemmatizer\n",
    "lemmatizer = WordNetLemmatizer()"
   ]
  },
  {
   "cell_type": "code",
   "execution_count": 22,
   "id": "bcfab589-82dc-4541-99b4-26028cb46fc7",
   "metadata": {},
   "outputs": [
    {
     "data": {
      "text/plain": [
       "'machine'"
      ]
     },
     "execution_count": 22,
     "metadata": {},
     "output_type": "execute_result"
    }
   ],
   "source": [
    "lemmatizer.lemmatize('machines')"
   ]
  },
  {
   "cell_type": "code",
   "execution_count": 25,
   "id": "ed701afe-188a-4d8d-8c05-81bb875d6ab3",
   "metadata": {},
   "outputs": [
    {
     "data": {
      "text/plain": [
       "'learning'"
      ]
     },
     "execution_count": 25,
     "metadata": {},
     "output_type": "execute_result"
    }
   ],
   "source": [
    "# 该算法默认只还原名词的词形\n",
    "lemmatizer.lemmatize('learning')"
   ]
  },
  {
   "cell_type": "code",
   "execution_count": null,
   "id": "89373d5a-b251-4238-8c1a-929187ba88e1",
   "metadata": {},
   "outputs": [],
   "source": []
  }
 ],
 "metadata": {
  "kernelspec": {
   "display_name": "Python 3 (ipykernel)",
   "language": "python",
   "name": "python3"
  },
  "language_info": {
   "codemirror_mode": {
    "name": "ipython",
    "version": 3
   },
   "file_extension": ".py",
   "mimetype": "text/x-python",
   "name": "python",
   "nbconvert_exporter": "python",
   "pygments_lexer": "ipython3",
   "version": "3.11.7"
  }
 },
 "nbformat": 4,
 "nbformat_minor": 5
}
